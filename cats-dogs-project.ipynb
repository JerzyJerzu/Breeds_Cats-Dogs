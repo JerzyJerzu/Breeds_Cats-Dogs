{
 "cells": [
  {
   "cell_type": "markdown",
   "id": "32eebd1f",
   "metadata": {
    "_cell_guid": "f05ac9cf-11a9-46d6-95a7-baf6d0ac38ee",
    "_uuid": "f5b41e5a-0d11-449c-a5c9-477b57a65a9a",
    "papermill": {
     "duration": 0.011872,
     "end_time": "2024-02-11T22:21:07.406740",
     "exception": false,
     "start_time": "2024-02-11T22:21:07.394868",
     "status": "completed"
    },
    "tags": []
   },
   "source": [
    "# Imports"
   ]
  },
  {
   "cell_type": "code",
   "execution_count": 1,
   "id": "6455dba5",
   "metadata": {
    "_cell_guid": "6fafdea2-41e8-4cf1-9a6a-f64db210ca65",
    "_uuid": "dd292565-8513-47b8-a2c6-7a4977473de4",
    "execution": {
     "iopub.execute_input": "2024-02-11T22:21:07.432029Z",
     "iopub.status.busy": "2024-02-11T22:21:07.431636Z",
     "iopub.status.idle": "2024-02-11T22:21:13.598864Z",
     "shell.execute_reply": "2024-02-11T22:21:13.597861Z"
    },
    "papermill": {
     "duration": 6.183223,
     "end_time": "2024-02-11T22:21:13.601296",
     "exception": false,
     "start_time": "2024-02-11T22:21:07.418073",
     "status": "completed"
    },
    "tags": []
   },
   "outputs": [
    {
     "name": "stderr",
     "output_type": "stream",
     "text": [
      "/opt/conda/lib/python3.10/site-packages/scipy/__init__.py:146: UserWarning: A NumPy version >=1.16.5 and <1.23.0 is required for this version of SciPy (detected version 1.24.3\n",
      "  warnings.warn(f\"A NumPy version >={np_minversion} and <{np_maxversion}\"\n"
     ]
    }
   ],
   "source": [
    "\n",
    "import numpy as np # linear algebra\n",
    "import pandas as pd # data processing, CSV file I/O (e.g. pd.read_csv)\n",
    "import os\n",
    "import zipfile\n",
    "import glob\n",
    "from PIL import Image\n",
    "import matplotlib.pyplot as plt\n",
    "from sklearn.model_selection import train_test_split\n",
    "\n",
    "import torch\n",
    "import torch.nn as nn\n",
    "import torch.nn.functional as F\n",
    "import torch.optim as optim\n",
    "from torch.utils.data import DataLoader, Dataset\n",
    "\n",
    "import torchvision\n",
    "from torchvision import datasets, transforms\n",
    "import torchvision.models as models\n",
    "from datetime import datetime\n",
    "import wandb\n",
    "from sklearn.metrics import accuracy_score, confusion_matrix\n",
    "import seaborn as sns\n",
    "\n",
    "import copy\n",
    "\n",
    "random_state = 2137\n",
    "np.random.seed(random_state)\n",
    "torch.manual_seed(random_state)\n",
    "torch.cuda.manual_seed(random_state)"
   ]
  },
  {
   "cell_type": "markdown",
   "id": "b0c7f002",
   "metadata": {
    "papermill": {
     "duration": 0.01209,
     "end_time": "2024-02-11T22:21:13.625280",
     "exception": false,
     "start_time": "2024-02-11T22:21:13.613190",
     "status": "completed"
    },
    "tags": []
   },
   "source": [
    "# Define all parameters here! To load network from the checkpoint, define the patch here, and look at the section on the botton of the notebook "
   ]
  },
  {
   "cell_type": "code",
   "execution_count": 2,
   "id": "08ac2a80",
   "metadata": {
    "_cell_guid": "3a882d0b-7f35-4a30-ac61-14d799aee814",
    "_uuid": "8b0d9253-f9d3-46a8-bdf7-f7c1bba9e7c7",
    "execution": {
     "iopub.execute_input": "2024-02-11T22:21:13.651109Z",
     "iopub.status.busy": "2024-02-11T22:21:13.650735Z",
     "iopub.status.idle": "2024-02-11T22:21:13.655303Z",
     "shell.execute_reply": "2024-02-11T22:21:13.654497Z"
    },
    "papermill": {
     "duration": 0.020072,
     "end_time": "2024-02-11T22:21:13.657172",
     "exception": false,
     "start_time": "2024-02-11T22:21:13.637100",
     "status": "completed"
    },
    "tags": []
   },
   "outputs": [],
   "source": [
    "passed_config = {\n",
    "        'last_checkpoint_path': None,\n",
    "        'model': 'ResNet',\n",
    "        'optimizer': 'sgd',\n",
    "        'learning_rate' : 0.02,\n",
    "        'batch_size': 64,\n",
    "    }"
   ]
  },
  {
   "cell_type": "code",
   "execution_count": 3,
   "id": "732fb42f",
   "metadata": {
    "_cell_guid": "efa3a7b3-9752-444d-bd1c-c0a9da65a910",
    "_uuid": "6b812fb1-bee5-48c0-8c6e-16e313ec8c64",
    "execution": {
     "iopub.execute_input": "2024-02-11T22:21:13.680841Z",
     "iopub.status.busy": "2024-02-11T22:21:13.680572Z",
     "iopub.status.idle": "2024-02-11T22:21:13.685804Z",
     "shell.execute_reply": "2024-02-11T22:21:13.684995Z"
    },
    "papermill": {
     "duration": 0.019098,
     "end_time": "2024-02-11T22:21:13.687662",
     "exception": false,
     "start_time": "2024-02-11T22:21:13.668564",
     "status": "completed"
    },
    "tags": []
   },
   "outputs": [],
   "source": [
    "sweep_config = {\n",
    "    'method': 'bayes',\n",
    "    'name': 'final_tuning_InceptionV3',\n",
    "    \"metric\": {\"goal\": \"minimize\", \"name\": \"validation_loss_epoch\"},\n",
    "    'parameters': {\n",
    "        'model': {'values': ['ResNet101']},\n",
    "        'optimizer': {'values': ['sgd', 'adam']},\n",
    "        'learning_rate': {'min': 0.0001, 'max': 0.07},\n",
    "        'batch_size': {'values': [32, 64]},\n",
    "    }\n",
    "}"
   ]
  },
  {
   "cell_type": "code",
   "execution_count": 4,
   "id": "f7277c2c",
   "metadata": {
    "_cell_guid": "d720493f-0c28-4daa-b44d-924b21a078fa",
    "_uuid": "8d04d5bc-4435-4e39-b749-a60ca5a0d63e",
    "execution": {
     "iopub.execute_input": "2024-02-11T22:21:13.711357Z",
     "iopub.status.busy": "2024-02-11T22:21:13.711087Z",
     "iopub.status.idle": "2024-02-11T22:21:13.715036Z",
     "shell.execute_reply": "2024-02-11T22:21:13.714184Z"
    },
    "papermill": {
     "duration": 0.018072,
     "end_time": "2024-02-11T22:21:13.717010",
     "exception": false,
     "start_time": "2024-02-11T22:21:13.698938",
     "status": "completed"
    },
    "tags": []
   },
   "outputs": [],
   "source": [
    "os.environ[\"WANDB_API_KEY\"] = 'put here wandb api key'\n",
    "os.environ[\"WANDB_MODE\"] = \"disabled\""
   ]
  },
  {
   "cell_type": "markdown",
   "id": "0210b7ed",
   "metadata": {
    "_cell_guid": "49971fda-7849-46de-a925-f87b76c08dfc",
    "_uuid": "54ff73d3-4361-4fb4-aa49-47982d5f86a4",
    "papermill": {
     "duration": 0.01115,
     "end_time": "2024-02-11T22:21:13.739489",
     "exception": false,
     "start_time": "2024-02-11T22:21:13.728339",
     "status": "completed"
    },
    "tags": []
   },
   "source": [
    "# Initialising the project on wandb"
   ]
  },
  {
   "cell_type": "code",
   "execution_count": 5,
   "id": "9903cf71",
   "metadata": {
    "_cell_guid": "624d8b13-c4e8-47cd-aaa0-136330fd2c22",
    "_uuid": "40e08122-5bde-451d-8a5d-1efc92f138a3",
    "execution": {
     "iopub.execute_input": "2024-02-11T22:21:13.763332Z",
     "iopub.status.busy": "2024-02-11T22:21:13.763032Z",
     "iopub.status.idle": "2024-02-11T22:21:13.768433Z",
     "shell.execute_reply": "2024-02-11T22:21:13.767604Z"
    },
    "papermill": {
     "duration": 0.019562,
     "end_time": "2024-02-11T22:21:13.770384",
     "exception": false,
     "start_time": "2024-02-11T22:21:13.750822",
     "status": "completed"
    },
    "tags": []
   },
   "outputs": [],
   "source": [
    "def initialize_wandb(config = None, config_info = None):\n",
    "    current_time = datetime.now().strftime(\"%m-%d_%H:%M\")\n",
    "    if config == None:\n",
    "        run_name = f\"tuning_{current_time}\"\n",
    "        wandb.init()\n",
    "    else:\n",
    "        run_name = f\"{current_time}_{config_info}\"\n",
    "        wandb.init(project='cats&dogs_ML&DL_project', save_code=True, config = config, name = run_name)\n",
    "    return"
   ]
  },
  {
   "cell_type": "markdown",
   "id": "bd8db15d",
   "metadata": {
    "_cell_guid": "60f41da9-366c-4dd9-bff6-9f915e9f23db",
    "_uuid": "d9b755a5-9bed-4d0c-9379-ada101ebb874",
    "papermill": {
     "duration": 0.011047,
     "end_time": "2024-02-11T22:21:13.792852",
     "exception": false,
     "start_time": "2024-02-11T22:21:13.781805",
     "status": "completed"
    },
    "tags": []
   },
   "source": [
    "# Parameters"
   ]
  },
  {
   "cell_type": "code",
   "execution_count": 6,
   "id": "cbf4007a",
   "metadata": {
    "_cell_guid": "46ec50f0-1641-4f1b-8c0e-af6d444070cd",
    "_kg_hide-input": false,
    "_kg_hide-output": false,
    "_uuid": "07422de6-5aab-495c-b98c-a5d8339a27af",
    "execution": {
     "iopub.execute_input": "2024-02-11T22:21:13.816823Z",
     "iopub.status.busy": "2024-02-11T22:21:13.816540Z",
     "iopub.status.idle": "2024-02-11T22:21:13.830361Z",
     "shell.execute_reply": "2024-02-11T22:21:13.829444Z"
    },
    "papermill": {
     "duration": 0.028113,
     "end_time": "2024-02-11T22:21:13.832237",
     "exception": false,
     "start_time": "2024-02-11T22:21:13.804124",
     "status": "completed"
    },
    "tags": []
   },
   "outputs": [],
   "source": [
    "class configuration:\n",
    "    def __init__(self, model, model_transforms, config=None):\n",
    "        self.model = model\n",
    "        self.initilaized_with_custom_configuration = True\n",
    "        if config == None:\n",
    "            self.initilaized_with_custom_configuration = False\n",
    "            config = wandb.config\n",
    "            self.batch_size = config.batch_size\n",
    "            self.init_learning_rate = config.learning_rate\n",
    "            self.optimizer_name = config.optimizer\n",
    "        else:\n",
    "            self.last_checkpoint_path = config['last_checkpoint_path']\n",
    "            self.init_learning_rate = config['learning_rate']\n",
    "            self.optimizer_name = config['optimizer']\n",
    "            self.batch_size = config['batch_size']\n",
    "        \n",
    "        self.optimizer = self.initialize_optimizer()\n",
    "        self.scheduler = torch.optim.lr_scheduler.ReduceLROnPlateau(self.optimizer, 'min', patience=3, verbose=True, min_lr=self.init_learning_rate/32, factor=0.5)\n",
    "        self.criterion = nn.CrossEntropyLoss()\n",
    "        self.test_transforms = model_transforms\n",
    "        # combine with some basic transforms\n",
    "        self.custom_transforms = get_costum_transforms()\n",
    "        self.train_transforms = transforms.Compose([self.custom_transforms,model_transforms])\n",
    "        \n",
    "    def initialize_optimizer(self):\n",
    "        if self.optimizer_name == 'sgd':\n",
    "            optimizer = optim.SGD(self.model.parameters(), lr=self.init_learning_rate, momentum=0.9)\n",
    "        elif self.optimizer_name == 'adam':\n",
    "            optimizer = optim.Adam(self.model.parameters(), lr=self.init_learning_rate)\n",
    "        else:\n",
    "            print(\"Unsupported optimizer:\")\n",
    "            raise ValueError(f\"Unsupported optimizer: {optimizer_name}\")\n",
    "        return optimizer\n",
    "    \n",
    "    def get_configuration_info(self):\n",
    "        info = f\"{type(self.model).__name__}_\"\n",
    "        info += f\"{type(self.optimizer).__name__}_\"\n",
    "        info += f\"Batch={self.batch_size}_\"\n",
    "        info += f\"lr={self.optimizer.param_groups[0]['lr']}\"\n",
    "        return info\n",
    "    def get_configuration_dictionary(self):\n",
    "        configuration_info = {\n",
    "            'model_type': type(self.model).__name__,\n",
    "            'criterion': str(self.criterion),\n",
    "            'optimizer': type(self.optimizer).__name__,\n",
    "            'batch_size': self.batch_size,\n",
    "            'scheduler': type(self.scheduler).__name__,\n",
    "            'optimizer_params': {\n",
    "                'initial_lr': self.optimizer.param_groups[0]['lr']\n",
    "            },\n",
    "            'scheduler_params': {\n",
    "                'min_lr': self.scheduler.min_lrs,\n",
    "                'patience': self.scheduler.patience,\n",
    "                'factor': self.scheduler.factor\n",
    "            },\n",
    "            'custom_transforms': [str(transform) for transform in self.custom_transforms.transforms] if self.custom_transforms else None\n",
    "        }\n",
    "\n",
    "        return configuration_info"
   ]
  },
  {
   "cell_type": "markdown",
   "id": "1f38501e",
   "metadata": {
    "_cell_guid": "fd3174c1-4aee-4e29-bf1c-2c8b175f5bc8",
    "_uuid": "3dcf512b-4e5c-413c-aad3-0028f8be4fe0",
    "papermill": {
     "duration": 0.010971,
     "end_time": "2024-02-11T22:21:13.854408",
     "exception": false,
     "start_time": "2024-02-11T22:21:13.843437",
     "status": "completed"
    },
    "tags": []
   },
   "source": [
    "# loading datasets"
   ]
  },
  {
   "cell_type": "code",
   "execution_count": 7,
   "id": "017cf03c",
   "metadata": {
    "_cell_guid": "d1d10af1-daa4-443b-87ab-1694cd1d502d",
    "_uuid": "c83b9513-15a6-426a-bcb4-9dd800a72898",
    "execution": {
     "iopub.execute_input": "2024-02-11T22:21:13.878223Z",
     "iopub.status.busy": "2024-02-11T22:21:13.877911Z",
     "iopub.status.idle": "2024-02-11T22:21:13.939501Z",
     "shell.execute_reply": "2024-02-11T22:21:13.938704Z"
    },
    "papermill": {
     "duration": 0.076011,
     "end_time": "2024-02-11T22:21:13.941687",
     "exception": false,
     "start_time": "2024-02-11T22:21:13.865676",
     "status": "completed"
    },
    "tags": []
   },
   "outputs": [],
   "source": [
    "#reading csv\n",
    "annotations = pd.read_csv('../input/cats-and-dogs-breeds-classification-oxford-dataset/annotations/annotations/list.txt')\n",
    "\n",
    "#The first 4 rows consists of the information about breeds\n",
    "#Reading the data after 5th row\n",
    "annotations = annotations.loc[5:,]\n",
    "\n",
    "#Processing the columns\n",
    "annotations[['CLASS-ID','SPECIES','BREED','ID']] = annotations['#Image CLASS-ID SPECIES BREED ID'].str.split(expand=True) \n",
    "\n",
    "#Dropping unnecessary columns\n",
    "annotations = annotations.drop('#Image CLASS-ID SPECIES BREED ID',axis=1)\n",
    "\n",
    "#renaming the columns\n",
    "annotations = annotations.rename(columns={\"CLASS-ID\": \"image\", \"SPECIES\": \"CLASS-ID\", 'BREED' : \"SPECIES\", \"ID\":\"BREED ID\"})\n",
    "\n",
    "\n",
    "#converting the object type to int type\n",
    "annotations[[\"CLASS-ID\",\"SPECIES\",\"BREED ID\"]] = annotations[[\"CLASS-ID\",\"SPECIES\",\"BREED ID\"]].astype(int)"
   ]
  },
  {
   "cell_type": "markdown",
   "id": "0e747127",
   "metadata": {
    "_cell_guid": "25c82c4e-bf8c-4e06-af65-7b43aaf665c6",
    "_uuid": "5d3184df-d2c8-4cda-8b1b-7784f9c6253e",
    "papermill": {
     "duration": 0.01109,
     "end_time": "2024-02-11T22:21:13.964329",
     "exception": false,
     "start_time": "2024-02-11T22:21:13.953239",
     "status": "completed"
    },
    "tags": []
   },
   "source": [
    "### RUN THIS CELL ONLY ONCE!!!"
   ]
  },
  {
   "cell_type": "code",
   "execution_count": 8,
   "id": "15ba7bc5",
   "metadata": {
    "_cell_guid": "ddc198d8-0457-4df8-9ae9-1c5b81591540",
    "_uuid": "a65a197e-9037-43a1-b283-e715416793a1",
    "execution": {
     "iopub.execute_input": "2024-02-11T22:21:13.988366Z",
     "iopub.status.busy": "2024-02-11T22:21:13.987809Z",
     "iopub.status.idle": "2024-02-11T22:21:14.121301Z",
     "shell.execute_reply": "2024-02-11T22:21:14.120332Z"
    },
    "papermill": {
     "duration": 0.148249,
     "end_time": "2024-02-11T22:21:14.123844",
     "exception": false,
     "start_time": "2024-02-11T22:21:13.975595",
     "status": "completed"
    },
    "tags": []
   },
   "outputs": [],
   "source": [
    "# adding the extension to image so it can be used to access the real image\n",
    "annotations['image'] = annotations['image'].apply(lambda x : str(x)+'.jpg')\n",
    "annotations = annotations.reset_index()\n",
    "annotations = annotations.drop('index',axis=1)\n",
    "\n",
    "#Extracting the classname/breed of the animal\n",
    "annotations['classname'] = annotations['image'].apply(lambda x: str(x)[:str(x).rindex('_')])\n",
    "\n",
    "# Adding information about cat or dog based on the 'Species' column to the 'classname' column\n",
    "annotations['classname'] = annotations.apply(lambda row: f\"{('dog' if row['SPECIES'] == 2 else 'cat')}_{row['classname']}\", axis=1)"
   ]
  },
  {
   "cell_type": "markdown",
   "id": "d35b4ebf",
   "metadata": {
    "papermill": {
     "duration": 0.057265,
     "end_time": "2024-02-11T22:21:14.192806",
     "exception": false,
     "start_time": "2024-02-11T22:21:14.135541",
     "status": "completed"
    },
    "tags": []
   },
   "source": [
    "### Creating dictionary to to link Class-IDs and class names"
   ]
  },
  {
   "cell_type": "code",
   "execution_count": 9,
   "id": "0e0c2e35",
   "metadata": {
    "execution": {
     "iopub.execute_input": "2024-02-11T22:21:14.217500Z",
     "iopub.status.busy": "2024-02-11T22:21:14.217140Z",
     "iopub.status.idle": "2024-02-11T22:21:14.228707Z",
     "shell.execute_reply": "2024-02-11T22:21:14.227994Z"
    },
    "papermill": {
     "duration": 0.026402,
     "end_time": "2024-02-11T22:21:14.230757",
     "exception": false,
     "start_time": "2024-02-11T22:21:14.204355",
     "status": "completed"
    },
    "tags": []
   },
   "outputs": [],
   "source": [
    "# Drop duplicates to get unique pairs of classID and classname\n",
    "class_mapping_df = annotations[['CLASS-ID', 'classname']].drop_duplicates()\n",
    "\n",
    "# Create a dictionary to map classID to classname\n",
    "class_id_to_name = dict(zip(class_mapping_df['CLASS-ID'], class_mapping_df['classname']))"
   ]
  },
  {
   "cell_type": "markdown",
   "id": "15824d38",
   "metadata": {
    "_cell_guid": "e4c62191-d037-479d-8003-966d214df6bf",
    "_uuid": "5de72031-2f24-4082-add2-78f5b2997138",
    "papermill": {
     "duration": 0.011183,
     "end_time": "2024-02-11T22:21:14.254415",
     "exception": false,
     "start_time": "2024-02-11T22:21:14.243232",
     "status": "completed"
    },
    "tags": []
   },
   "source": [
    "# Adding transformations"
   ]
  },
  {
   "cell_type": "code",
   "execution_count": 10,
   "id": "196e1e8a",
   "metadata": {
    "_cell_guid": "1e8ce57e-9537-46bd-93bd-6d48f4d05a30",
    "_kg_hide-input": false,
    "_kg_hide-output": false,
    "_uuid": "014a9871-c116-4325-84d9-11d993cc832f",
    "execution": {
     "iopub.execute_input": "2024-02-11T22:21:14.278096Z",
     "iopub.status.busy": "2024-02-11T22:21:14.277766Z",
     "iopub.status.idle": "2024-02-11T22:21:14.284605Z",
     "shell.execute_reply": "2024-02-11T22:21:14.283853Z"
    },
    "papermill": {
     "duration": 0.020799,
     "end_time": "2024-02-11T22:21:14.286402",
     "exception": false,
     "start_time": "2024-02-11T22:21:14.265603",
     "status": "completed"
    },
    "tags": []
   },
   "outputs": [],
   "source": [
    "def get_costum_transforms():\n",
    "    costum_transforms = torchvision.transforms.Compose([\n",
    "        transforms.RandomRotation(degrees=(-30, 30),fill=None),\n",
    "        transforms.Resize((300,300)),\n",
    "        transforms.RandomApply([transforms.Compose([\n",
    "                transforms.CenterCrop(200),\n",
    "                transforms.RandomCrop(80),\n",
    "            ]),], p=0.3),\n",
    "        transforms.RandomHorizontalFlip(p=0.4),\n",
    "        transforms.ColorJitter(brightness=0.2, contrast=0.2, saturation=0.1),\n",
    "        transforms.GaussianBlur(kernel_size=(5,5), sigma=0.3),\n",
    "        transforms.RandomApply([transforms.Compose([\n",
    "                transforms.GaussianBlur(kernel_size=(9,9), sigma=0.7),\n",
    "            ]),], p=0.4),\n",
    "      ])\n",
    "    return costum_transforms"
   ]
  },
  {
   "cell_type": "markdown",
   "id": "0319797a",
   "metadata": {
    "_cell_guid": "01439d6b-2580-4a84-954a-b0e25a369a2a",
    "_uuid": "bc104db6-a1f3-4a07-941f-e6dd9a5683f0",
    "papermill": {
     "duration": 0.011483,
     "end_time": "2024-02-11T22:21:14.309494",
     "exception": false,
     "start_time": "2024-02-11T22:21:14.298011",
     "status": "completed"
    },
    "tags": []
   },
   "source": [
    "\n",
    "\n",
    "# Creating the dataset class"
   ]
  },
  {
   "cell_type": "code",
   "execution_count": 11,
   "id": "18ddbd84",
   "metadata": {
    "_cell_guid": "dc8cbeab-2d61-4464-be7e-ea5998ea135e",
    "_uuid": "678f73e2-736c-4b98-a6c4-d0084ff8955d",
    "execution": {
     "iopub.execute_input": "2024-02-11T22:21:14.333638Z",
     "iopub.status.busy": "2024-02-11T22:21:14.333355Z",
     "iopub.status.idle": "2024-02-11T22:21:14.341994Z",
     "shell.execute_reply": "2024-02-11T22:21:14.341180Z"
    },
    "papermill": {
     "duration": 0.022884,
     "end_time": "2024-02-11T22:21:14.343902",
     "exception": false,
     "start_time": "2024-02-11T22:21:14.321018",
     "status": "completed"
    },
    "tags": []
   },
   "outputs": [],
   "source": [
    "class CatsDogsDataset(Dataset):\n",
    "    def __init__(self, file_list, transform=None):\n",
    "        self.folder_patch = '/kaggle/input/cats-and-dogs-breeds-classification-oxford-dataset/images/images/'\n",
    "        self.annotations = file_list\n",
    "        self.transform = transform\n",
    "        self.filelength = len(file_list)\n",
    "\n",
    "    def __len__(self):\n",
    "        return self.filelength\n",
    "\n",
    "    def __getitem__(self, idx):\n",
    "        classID = self.annotations['CLASS-ID'].iloc[idx]\n",
    "        img_path = self.annotations['image'].iloc[idx]\n",
    "        img_path = self.folder_patch + img_path\n",
    "        img = Image.open(img_path)\n",
    "        \n",
    "        has_alpha_channel = img.mode == 'RGBA'\n",
    "        if has_alpha_channel == True:\n",
    "            #print(\"image has Alpha channel\")\n",
    "            img = img.convert('RGB')\n",
    "        if self.transform is not None:\n",
    "            try:\n",
    "                img = self.transform(img)\n",
    "            except RuntimeError as e:\n",
    "                print(f\"Exception: {e}\")\n",
    "                print(\"Shape before normalization:\", img.size)\n",
    "                print(img_path)\n",
    "                tot = transforms.ToTensor()\n",
    "                img_tensor = tot(img)\n",
    "                print(\"Input Tensor Shape:\", img_tensor.shape)\n",
    "                print(\"Input Tensor Values:\", img_tensor)\n",
    "        return img, classID-1"
   ]
  },
  {
   "cell_type": "code",
   "execution_count": 12,
   "id": "4730e7a6",
   "metadata": {
    "_cell_guid": "807c483d-7f9d-4b67-8537-178e9c284178",
    "_uuid": "ca49b3cf-0779-4055-91f0-94e64feee06c",
    "execution": {
     "iopub.execute_input": "2024-02-11T22:21:14.368249Z",
     "iopub.status.busy": "2024-02-11T22:21:14.367996Z",
     "iopub.status.idle": "2024-02-11T22:21:14.371903Z",
     "shell.execute_reply": "2024-02-11T22:21:14.371143Z"
    },
    "papermill": {
     "duration": 0.018196,
     "end_time": "2024-02-11T22:21:14.373792",
     "exception": false,
     "start_time": "2024-02-11T22:21:14.355596",
     "status": "completed"
    },
    "tags": []
   },
   "outputs": [],
   "source": [
    "all_images = CatsDogsDataset(annotations)"
   ]
  },
  {
   "cell_type": "markdown",
   "id": "056046ad",
   "metadata": {
    "_cell_guid": "b6fed058-bdf1-4cb9-a666-6801541fb8c3",
    "_uuid": "9efe1d59-3943-4ea5-ab01-0d8cfea4ca3d",
    "papermill": {
     "duration": 0.011165,
     "end_time": "2024-02-11T22:21:14.396250",
     "exception": false,
     "start_time": "2024-02-11T22:21:14.385085",
     "status": "completed"
    },
    "tags": []
   },
   "source": [
    "# Splitting datasets and creating the dataloaders"
   ]
  },
  {
   "cell_type": "code",
   "execution_count": 13,
   "id": "8bfa7608",
   "metadata": {
    "_cell_guid": "3d204d7d-4140-4554-8394-da7d27835371",
    "_uuid": "7b09690e-55d9-45a4-a758-cd93632a811b",
    "execution": {
     "iopub.execute_input": "2024-02-11T22:21:14.420512Z",
     "iopub.status.busy": "2024-02-11T22:21:14.420204Z",
     "iopub.status.idle": "2024-02-11T22:21:14.427293Z",
     "shell.execute_reply": "2024-02-11T22:21:14.426430Z"
    },
    "papermill": {
     "duration": 0.021751,
     "end_time": "2024-02-11T22:21:14.429385",
     "exception": false,
     "start_time": "2024-02-11T22:21:14.407634",
     "status": "completed"
    },
    "tags": []
   },
   "outputs": [],
   "source": [
    "def get_dataloaders(annotations, config): \n",
    "    train_set_temp, test_annotations = train_test_split(annotations, test_size=0.2, random_state=random_state, stratify=annotations['CLASS-ID'])\n",
    "    train_annotations, validation_annotations = train_test_split(train_set_temp, test_size=0.2, random_state=random_state, stratify=train_set_temp['CLASS-ID'])\n",
    "\n",
    "    train_data = CatsDogsDataset(train_annotations, transform=config.train_transforms)\n",
    "    valid_data = CatsDogsDataset(validation_annotations, transform=config.test_transforms)\n",
    "    test_data = CatsDogsDataset(test_annotations, transform=config.test_transforms)\n",
    "\n",
    "    train_loader = DataLoader(dataset=train_data, batch_size=config.batch_size , shuffle=True)\n",
    "    valid_loader = DataLoader(dataset=valid_data, batch_size=config.batch_size, shuffle=True)\n",
    "    test_loader = DataLoader(dataset=test_data, batch_size=config.batch_size, shuffle=False)\n",
    "    \n",
    "    return train_loader,  valid_loader, test_loader"
   ]
  },
  {
   "cell_type": "markdown",
   "id": "7e09e7e5",
   "metadata": {
    "_cell_guid": "ffea4198-5702-4889-bc8b-6e84246b230d",
    "_uuid": "2e2488d5-d2a4-4c4c-bfee-70c6b10acb68",
    "papermill": {
     "duration": 0.012627,
     "end_time": "2024-02-11T22:21:14.453528",
     "exception": false,
     "start_time": "2024-02-11T22:21:14.440901",
     "status": "completed"
    },
    "tags": []
   },
   "source": [
    "# Training"
   ]
  },
  {
   "cell_type": "markdown",
   "id": "2f6414ba",
   "metadata": {
    "_cell_guid": "9409ae66-18bc-4297-9278-bb4081319ef6",
    "_uuid": "2bed54b5-5fff-40c6-8ca2-b2a4594349cb",
    "papermill": {
     "duration": 0.011617,
     "end_time": "2024-02-11T22:21:14.477622",
     "exception": false,
     "start_time": "2024-02-11T22:21:14.466005",
     "status": "completed"
    },
    "tags": []
   },
   "source": [
    "### Accuracy function"
   ]
  },
  {
   "cell_type": "code",
   "execution_count": 14,
   "id": "01a8f2f5",
   "metadata": {
    "_cell_guid": "ff039d46-8087-4803-964b-c2f5c8a8f8c9",
    "_uuid": "c6faa626-6dda-4d5e-8c39-a63c93340f40",
    "execution": {
     "iopub.execute_input": "2024-02-11T22:21:14.503063Z",
     "iopub.status.busy": "2024-02-11T22:21:14.502175Z",
     "iopub.status.idle": "2024-02-11T22:21:14.507672Z",
     "shell.execute_reply": "2024-02-11T22:21:14.506705Z"
    },
    "papermill": {
     "duration": 0.020368,
     "end_time": "2024-02-11T22:21:14.509776",
     "exception": false,
     "start_time": "2024-02-11T22:21:14.489408",
     "status": "completed"
    },
    "tags": []
   },
   "outputs": [],
   "source": [
    "def my_accuracy(predictions, labels):\n",
    "    predictions = torch.argmax(predictions,dim=1)\n",
    "    correct = (predictions == labels)\n",
    "    acc = sum(correct) / len(predictions)\n",
    "    return acc.item()"
   ]
  },
  {
   "cell_type": "markdown",
   "id": "54a5077b",
   "metadata": {
    "_cell_guid": "b97b9e8a-1172-4bdb-b5f3-0f9d3a56ceb4",
    "_uuid": "a4637c80-ac5c-489e-b4a1-156631578603",
    "papermill": {
     "duration": 0.012357,
     "end_time": "2024-02-11T22:21:14.534772",
     "exception": false,
     "start_time": "2024-02-11T22:21:14.522415",
     "status": "completed"
    },
    "tags": []
   },
   "source": [
    "### Saving checkpoint"
   ]
  },
  {
   "cell_type": "code",
   "execution_count": 15,
   "id": "8121a079",
   "metadata": {
    "_cell_guid": "63936c3b-4f4c-43d0-af07-8faaf7c8d58c",
    "_uuid": "b80a8abc-5349-47d7-83bb-a0c5a1b1120c",
    "execution": {
     "iopub.execute_input": "2024-02-11T22:21:14.567738Z",
     "iopub.status.busy": "2024-02-11T22:21:14.567383Z",
     "iopub.status.idle": "2024-02-11T22:21:14.575104Z",
     "shell.execute_reply": "2024-02-11T22:21:14.573520Z"
    },
    "papermill": {
     "duration": 0.029896,
     "end_time": "2024-02-11T22:21:14.578439",
     "exception": false,
     "start_time": "2024-02-11T22:21:14.548543",
     "status": "completed"
    },
    "tags": []
   },
   "outputs": [],
   "source": [
    "def save_checkpoint(initilaized_with_custom_configuration, epoch, model, optimizer, loss, config):\n",
    "    if initilaized_with_custom_configuration == True:\n",
    "        if epoch%1 == 0:\n",
    "            checkpoint = {\n",
    "                'epoch': epoch,\n",
    "                'model_state_dict': model.state_dict(prefix='modified_fc.'),\n",
    "                'optimizer_state_dict': optimizer.state_dict(), # contains information like lr scheduler state\n",
    "                'loss': loss,  # Save the current training loss if needed\n",
    "            }\n",
    "            info = config.get_configuration_info()\n",
    "            checkpoint_path = f'/kaggle/working/{epoch}_{info}.pth'\n",
    "            torch.save(checkpoint, checkpoint_path)\n",
    "            config.last_checkpoint_path = checkpoint_path\n",
    "    return"
   ]
  },
  {
   "cell_type": "markdown",
   "id": "aef4b1d1",
   "metadata": {
    "_cell_guid": "6cc568ce-e3b4-4c36-a4bc-aeb7625ec7d4",
    "_uuid": "967732e8-2b82-4cbc-91b4-b70863ddbf08",
    "papermill": {
     "duration": 0.012345,
     "end_time": "2024-02-11T22:21:14.604220",
     "exception": false,
     "start_time": "2024-02-11T22:21:14.591875",
     "status": "completed"
    },
    "tags": []
   },
   "source": [
    "### Training loop"
   ]
  },
  {
   "cell_type": "code",
   "execution_count": 16,
   "id": "f08b270c",
   "metadata": {
    "_cell_guid": "75fd7445-fb6e-4112-885c-19f166ad754c",
    "_uuid": "420cc670-9d12-4fdf-baf3-a1fc4ba8ce7e",
    "execution": {
     "iopub.execute_input": "2024-02-11T22:21:14.631776Z",
     "iopub.status.busy": "2024-02-11T22:21:14.631487Z",
     "iopub.status.idle": "2024-02-11T22:21:14.669884Z",
     "shell.execute_reply": "2024-02-11T22:21:14.668829Z"
    },
    "papermill": {
     "duration": 0.054781,
     "end_time": "2024-02-11T22:21:14.672020",
     "exception": false,
     "start_time": "2024-02-11T22:21:14.617239",
     "status": "completed"
    },
    "tags": []
   },
   "outputs": [],
   "source": [
    "class TrainingManager:\n",
    "    _instance = None\n",
    "    \n",
    "    def __new__(cls, *args, **kwargs):\n",
    "        if not cls._instance:\n",
    "            print('inintializing manager for the first time')\n",
    "            cls._instance = super().__new__(cls)\n",
    "            cls._instance.device = torch.device(\"cuda\" if torch.cuda.is_available() else \"cpu\")\n",
    "            cls._instance.config = None\n",
    "            \n",
    "            cls._instance.train_loader = None\n",
    "            cls._instance.valid_loader = None\n",
    "            cls._instance.test_loader = None\n",
    "            cls._instance.resume_epoch = None\n",
    "            \n",
    "            cls._instance.training_accuracy_epoch = 0\n",
    "            cls._instance.validation_accuracy_epoch = 0\n",
    "            cls._instance.training_loss_epoch = 0\n",
    "            cls._instance.validation_loss_epoch = 100\n",
    "            cls._instance.total_train_batches = 0\n",
    "            cls._instance.total_valid_batches = 0\n",
    "            cls._instance.resume_epoch = 0\n",
    "            cls._instance.cnt = 0\n",
    "            cls._instance.log_interval = 1\n",
    "            cls._instance.mean_loss = 0.0\n",
    "            cls._instance.mean_lr = 0.0\n",
    "            cls._instance.mean_grad_magnitude = 0.0\n",
    "            cls._instance.termination_counter = 0\n",
    "            cls._instance.last_validation_loss = 0\n",
    "        return cls._instance\n",
    "\n",
    "    def setup_configuration(self, config, annotations):\n",
    "        self.config = config\n",
    "        self.config.model.to(self.device)\n",
    "        self.resume_epoch = 0\n",
    "        self.train_loader, self.valid_loader, self.test_loader = get_dataloaders(annotations, config)\n",
    "        \n",
    "        self.total_train_batches = len(self.train_loader)\n",
    "        self.total_valid_batches = len(self.valid_loader)\n",
    "        \n",
    "        if self.config.initilaized_with_custom_configuration == True:\n",
    "            if self.config.last_checkpoint_path != None:\n",
    "                checkpoint = torch.load(self.config.last_checkpoint_path)\n",
    "                self.config.optimizer.load_state_dict(checkpoint['optimizer_state_dict'])\n",
    "                self.resume_epoch = checkpoint['epoch']\n",
    "                # Remove the prefix from the keys\n",
    "                state_dict = {k.replace('modified_fc.', ''): v for k, v in checkpoint['model_state_dict'].items()}\n",
    "                # It is required after DataParallel wraps the module\n",
    "                state_dict = {k.replace('module.', ''): v for k, v in state_dict.items()}\n",
    "                self.config.model.load_state_dict(state_dict)\n",
    "            else:\n",
    "                print('no checkpoint found')\n",
    "        d = next(self.config.model.parameters()).device\n",
    "        if d.type == 'cuda':\n",
    "            print(\"Model is on GPU\")\n",
    "            self.config.model = torch.nn.DataParallel(self.config.model) # if multiple GPUs use them\n",
    "        else:\n",
    "            print(\"Model is on CPU\")\n",
    "                \n",
    "    def training(self, config, annotations):\n",
    "        num_epochs = 40\n",
    "        self.termination_counter = 0\n",
    "        self.setup_configuration(config, annotations)\n",
    "        self.config.model.train()\n",
    "        for epoch in range(num_epochs - self.resume_epoch):\n",
    "            self.training_loss_epoch = 0\n",
    "            self.training_accuracy_epoch = 0\n",
    "            self.cnt = 0\n",
    "\n",
    "            for train_features_batch, train_labels_batch in self.train_loader:\n",
    "                train_features_batch, train_labels_batch = train_features_batch.to(self.device), train_labels_batch.to(self.device)\n",
    "                self.config.optimizer.zero_grad()\n",
    "\n",
    "                y_hat = self.config.model(train_features_batch)\n",
    "                \n",
    "                training_loss = self.config.criterion(y_hat, train_labels_batch)\n",
    "                training_loss.backward()\n",
    "                self.config.optimizer.step()\n",
    "\n",
    "                self.training_loss_epoch += training_loss.item()\n",
    "                train_accuracy = my_accuracy(y_hat, train_labels_batch)\n",
    "                self.training_accuracy_epoch += train_accuracy\n",
    "                \n",
    "                self.cnt += 1\n",
    "                self.batch_log_metrics(training_loss)\n",
    "                \n",
    "            save_checkpoint(self.config.initilaized_with_custom_configuration,epoch+self.resume_epoch, self.config.model, self.config.optimizer, self.training_loss_epoch, config)\n",
    "            self.last_validation_loss = self.validation_loss_epoch\n",
    "            self.validation_loss_epoch = 0\n",
    "            self.validation_accuracy_epoch = 0\n",
    "            self.cnt = 0\n",
    "\n",
    "            for val_features_batch, val_labels_batch in self.valid_loader:\n",
    "                val_features_batch, val_labels_batch = val_features_batch.to(self.device), val_labels_batch.to(self.device)\n",
    "                with torch.no_grad():\n",
    "                    y_hat_val = self.config.model(val_features_batch)\n",
    "                    validation_loss = self.config.criterion(y_hat_val, val_labels_batch)\n",
    "                    self.validation_loss_epoch += validation_loss.item()\n",
    "                    val_accuracy = my_accuracy(y_hat_val, val_labels_batch)\n",
    "                    self.validation_accuracy_epoch += val_accuracy\n",
    "                    self.cnt += 1\n",
    "                    \n",
    "            self.normalize_metrics()      \n",
    "            self.log_metrics()\n",
    "            self.print_metrics(epoch + self.resume_epoch)\n",
    "            self.config.scheduler.step(self.validation_loss_epoch)\n",
    "            # Early stopping\n",
    "            if  (self.validation_accuracy_epoch - self.training_accuracy_epoch < -0.20) and (self.training_loss_epoch - self.validation_loss_epoch < -0.15):\n",
    "                save_checkpoint(self.config.initilaized_with_custom_configuration, epoch+self.resume_epoch, self.config.model, self.config.optimizer, self.training_loss_epoch, config)\n",
    "                print('Early stopping! Overfitting')\n",
    "                return\n",
    "            if  self.validation_loss_epoch >= self.last_validation_loss:\n",
    "                self.termination_counter += 1\n",
    "                save_checkpoint(self.config.initilaized_with_custom_configuration, epoch+self.resume_epoch, self.config.model, self.config.optimizer, self.training_loss_epoch, config)\n",
    "                if self.termination_counter > 3:\n",
    "                    print('Early stopping! Overfitting')\n",
    "                    return\n",
    "            else:\n",
    "                self.termination_counter = 0\n",
    "        save_checkpoint(self.config.initilaized_with_custom_configuration, epoch+self.resume_epoch, self.config.model, self.config.optimizer, self.training_loss_epoch, config)\n",
    "        return\n",
    "    def normalize_metrics(self):\n",
    "            self.training_accuracy_epoch = self.training_accuracy_epoch / self.total_train_batches\n",
    "            self.validation_accuracy_epoch = self.validation_accuracy_epoch / self.total_valid_batches\n",
    "            self.training_loss_epoch = self.training_loss_epoch / self.total_train_batches\n",
    "            self.validation_loss_epoch = self.validation_loss_epoch / self.total_valid_batches\n",
    "            \n",
    "    def log_metrics(self):\n",
    "        wandb.log({f'validation_loss_epoch': self.validation_loss_epoch,\n",
    "                   f'training_loss_epoch': self.training_loss_epoch})\n",
    "        wandb.log({f'training_accuracy_epoch': self.training_accuracy_epoch,\n",
    "                   f'validation_accuracy_epoch': self.validation_accuracy_epoch})\n",
    "\n",
    "    def print_metrics(self, epoch):\n",
    "        print('~~~~~~~~~~~~~~~~~~~~~ Epoch: ', epoch, ' ~~~~~~~~~~~~~~~~~~~~~')\n",
    "        print({f'training_loss_epoch': self.training_loss_epoch,\n",
    "               f'training_accuracy_epoch': self.training_accuracy_epoch})\n",
    "        print({f'validation_loss_epoch': self.validation_loss_epoch,\n",
    "               f'validation_accuracy_epoch': self.validation_accuracy_epoch})\n",
    "        \n",
    "    def batch_log_metrics(self, train_loss):\n",
    "        # Calculate mean values every n batches\n",
    "        self.mean_loss += train_loss.item()\n",
    "        self.mean_lr += self.config.optimizer.param_groups[0]['lr']\n",
    "        self.mean_grad_magnitude += self.calculate_gradient_magnitude()\n",
    "\n",
    "        if self.cnt % self.log_interval == 0:\n",
    "            # Log mean values\n",
    "            mean_loss_batch = self.mean_loss / self.log_interval\n",
    "            mean_lr_batch = self.mean_lr / self.log_interval\n",
    "            mean_grad_magnitude_batch = self.mean_grad_magnitude / self.log_interval\n",
    "\n",
    "            wandb.log({'training_loss_every_n_batches': mean_loss_batch,\n",
    "                       'training_learning_rate_every_n_batches': mean_lr_batch,\n",
    "                       'training_gradient_magnitude_every_n_batches': mean_grad_magnitude_batch})\n",
    "\n",
    "            # Reset mean values\n",
    "            self.mean_loss = 0.0\n",
    "            self.mean_lr = 0.0\n",
    "            self.mean_grad_magnitude = 0.0\n",
    "            \n",
    "    def calculate_gradient_magnitude(self):\n",
    "        # Example implementation of calculating the gradient magnitude\n",
    "        total_norm = 0.0\n",
    "        for param in self.config.model.parameters():\n",
    "            if param.grad is not None:\n",
    "                total_norm += param.grad.data.norm(2).item()\n",
    "        return total_norm\n",
    "        \n",
    "    def evaluate_on_test_dataset(self):\n",
    "        device = torch.device(\"cuda\" if torch.cuda.is_available() else \"cpu\")\n",
    "        self.config.model.eval()\n",
    "        predictions = []\n",
    "        labels = []\n",
    "        with torch.no_grad():\n",
    "            for inputs_batch, labels_batch in self.test_loader:\n",
    "                inputs_batch = inputs_batch.to(self.device)\n",
    "                labels_batch = labels_batch.tolist()\n",
    "                outputs = self.config.model(inputs_batch)\n",
    "                predicted_classes = [torch.argmax(pred).item() for pred in outputs]\n",
    "                predictions += predicted_classes\n",
    "                labels += labels_batch\n",
    "        return accuracy_score(labels, predictions), confusion_matrix(labels, predictions)"
   ]
  },
  {
   "cell_type": "markdown",
   "id": "22aa425b",
   "metadata": {
    "_cell_guid": "6c40ad0a-e194-4d86-a354-d34ddacf9809",
    "_uuid": "63e21653-39e1-42f2-9c24-d447dfd03a61",
    "papermill": {
     "duration": 0.012593,
     "end_time": "2024-02-11T22:21:14.697749",
     "exception": false,
     "start_time": "2024-02-11T22:21:14.685156",
     "status": "completed"
    },
    "tags": []
   },
   "source": [
    "# Defining models"
   ]
  },
  {
   "cell_type": "markdown",
   "id": "a8cdd077",
   "metadata": {
    "_cell_guid": "e515a9ae-44ec-4e14-b71a-e7fa4e9529c1",
    "_uuid": "95c2a756-ddf1-4cfc-a9a7-a1fb9869d7a7",
    "papermill": {
     "duration": 0.012221,
     "end_time": "2024-02-11T22:21:14.722898",
     "exception": false,
     "start_time": "2024-02-11T22:21:14.710677",
     "status": "completed"
    },
    "tags": []
   },
   "source": [
    "### ResNet101"
   ]
  },
  {
   "cell_type": "code",
   "execution_count": 17,
   "id": "9862c6af",
   "metadata": {
    "_cell_guid": "81d61e69-651c-40f6-9241-dc38acb40934",
    "_uuid": "adcfbbc2-844a-4ae1-b6f1-0cf364f48dbc",
    "execution": {
     "iopub.execute_input": "2024-02-11T22:21:14.747342Z",
     "iopub.status.busy": "2024-02-11T22:21:14.747029Z",
     "iopub.status.idle": "2024-02-11T22:21:14.753096Z",
     "shell.execute_reply": "2024-02-11T22:21:14.752212Z"
    },
    "papermill": {
     "duration": 0.020422,
     "end_time": "2024-02-11T22:21:14.755073",
     "exception": false,
     "start_time": "2024-02-11T22:21:14.734651",
     "status": "completed"
    },
    "tags": []
   },
   "outputs": [],
   "source": [
    "def get_pretrained_resnet101():\n",
    "    model = models.resnet101(weights=torchvision.models.ResNet101_Weights.DEFAULT)\n",
    "    num_classes = 37\n",
    "    model.fc = nn.Sequential(\n",
    "        nn.Linear(model.fc.in_features, num_classes),\n",
    "        nn.Softmax(dim=1)\n",
    "    )\n",
    "    nn.init.xavier_normal_(model.fc[0].weight)\n",
    "    nn.init.constant_(model.fc[0].bias, 0)\n",
    "    \n",
    "    weights = torchvision.models.ResNet101_Weights.DEFAULT\n",
    "    preprocess_transforms = weights.transforms()\n",
    "    \n",
    "    return model, preprocess_transforms"
   ]
  },
  {
   "cell_type": "markdown",
   "id": "fcad533f",
   "metadata": {
    "papermill": {
     "duration": 0.011248,
     "end_time": "2024-02-11T22:21:14.777594",
     "exception": false,
     "start_time": "2024-02-11T22:21:14.766346",
     "status": "completed"
    },
    "tags": []
   },
   "source": [
    "### Inception V3"
   ]
  },
  {
   "cell_type": "code",
   "execution_count": 18,
   "id": "e8b18156",
   "metadata": {
    "execution": {
     "iopub.execute_input": "2024-02-11T22:21:14.801577Z",
     "iopub.status.busy": "2024-02-11T22:21:14.801282Z",
     "iopub.status.idle": "2024-02-11T22:21:14.809097Z",
     "shell.execute_reply": "2024-02-11T22:21:14.808311Z"
    },
    "papermill": {
     "duration": 0.022161,
     "end_time": "2024-02-11T22:21:14.810993",
     "exception": false,
     "start_time": "2024-02-11T22:21:14.788832",
     "status": "completed"
    },
    "tags": []
   },
   "outputs": [],
   "source": [
    "def remove_auxiliary_logits(model):\n",
    "    if isinstance(model, models.Inception3):\n",
    "        # Set the auxiliary logits to False\n",
    "        model.aux_logits = False\n",
    "        \n",
    "        # Replace the auxiliary classifier with an identity layer\n",
    "        model.AuxLogits = nn.Identity()\n",
    "\n",
    "def get_pretrained_inception_v3():\n",
    "    model = torchvision.models.inception_v3(pretrained=True)\n",
    "    \n",
    "    remove_auxiliary_logits(model)\n",
    "    \n",
    "    # Replace the final fully connected layer with a new one\n",
    "    num_classes = 37\n",
    "    model.fc = nn.Sequential(\n",
    "        nn.Linear(model.fc.in_features, num_classes),\n",
    "        nn.Softmax(dim=1)\n",
    "    )\n",
    "    \n",
    "    # Initialize the new fully connected layer\n",
    "    nn.init.xavier_normal_(model.fc[0].weight)\n",
    "    nn.init.constant_(model.fc[0].bias, 0)\n",
    "    \n",
    "    # Get the default preprocessing transforms for Inception V3\n",
    "    preprocess_transforms = torchvision.transforms.Compose([\n",
    "        torchvision.transforms.Resize((299,299)),\n",
    "        torchvision.transforms.ToTensor(),\n",
    "        torchvision.transforms.Normalize(mean=[0.485, 0.456, 0.406],\n",
    "                                         std=[0.229, 0.224, 0.225])\n",
    "    ])\n",
    "    \n",
    "    return model, preprocess_transforms"
   ]
  },
  {
   "cell_type": "markdown",
   "id": "0085801a",
   "metadata": {
    "papermill": {
     "duration": 0.011224,
     "end_time": "2024-02-11T22:21:14.833424",
     "exception": false,
     "start_time": "2024-02-11T22:21:14.822200",
     "status": "completed"
    },
    "tags": []
   },
   "source": [
    "# Functions to call training for training and sweep optimization"
   ]
  },
  {
   "cell_type": "code",
   "execution_count": 19,
   "id": "ca84e2ce",
   "metadata": {
    "_cell_guid": "6f01a231-f65c-4774-a861-4903d57ced0b",
    "_uuid": "74d527f8-6efe-4090-9a1d-54280263d7af",
    "execution": {
     "iopub.execute_input": "2024-02-11T22:21:14.857335Z",
     "iopub.status.busy": "2024-02-11T22:21:14.857042Z",
     "iopub.status.idle": "2024-02-11T22:21:14.862962Z",
     "shell.execute_reply": "2024-02-11T22:21:14.862175Z"
    },
    "papermill": {
     "duration": 0.020112,
     "end_time": "2024-02-11T22:21:14.864830",
     "exception": false,
     "start_time": "2024-02-11T22:21:14.844718",
     "status": "completed"
    },
    "tags": []
   },
   "outputs": [],
   "source": [
    "def train_model(config):\n",
    "    if config['model'] == 'ResNet':\n",
    "        model, preprocess_transforms = get_pretrained_resnet101()\n",
    "    elif config['model'] == 'Inception':\n",
    "        model, preprocess_transforms = get_pretrained_inception_v3()\n",
    "    else:\n",
    "        print('wrong model declaration')\n",
    "        return\n",
    "    traning_config = configuration(model, preprocess_transforms, config)\n",
    "    initialize_wandb(config, traning_config.get_configuration_info())\n",
    "    manager = TrainingManager()\n",
    "    manager.training(traning_config, annotations)\n",
    "    return"
   ]
  },
  {
   "cell_type": "markdown",
   "id": "66bbc78a",
   "metadata": {
    "papermill": {
     "duration": 0.011064,
     "end_time": "2024-02-11T22:21:14.887565",
     "exception": false,
     "start_time": "2024-02-11T22:21:14.876501",
     "status": "completed"
    },
    "tags": []
   },
   "source": [
    "### SPECIFY MODEL FOR SWEEP OPTIMISATION HERE!!!"
   ]
  },
  {
   "cell_type": "code",
   "execution_count": 20,
   "id": "4116fce3",
   "metadata": {
    "_cell_guid": "d1b937ea-843a-43f2-ab3b-71baaa83734b",
    "_uuid": "7bd1f441-f280-403d-a46c-31cfe9985e8d",
    "execution": {
     "iopub.execute_input": "2024-02-11T22:21:14.911796Z",
     "iopub.status.busy": "2024-02-11T22:21:14.911154Z",
     "iopub.status.idle": "2024-02-11T22:21:14.916228Z",
     "shell.execute_reply": "2024-02-11T22:21:14.915409Z"
    },
    "papermill": {
     "duration": 0.019238,
     "end_time": "2024-02-11T22:21:14.918085",
     "exception": false,
     "start_time": "2024-02-11T22:21:14.898847",
     "status": "completed"
    },
    "tags": []
   },
   "outputs": [],
   "source": [
    "def start_training_with_sweep():\n",
    "    wandb.init()\n",
    "    print(wandb.config)\n",
    "    print(\"*\")\n",
    "    model, preprocess_transforms = get_pretrained_inception_v3()\n",
    "    traning_config = configuration(model, preprocess_transforms)\n",
    "    manager = TrainingManager()\n",
    "    manager.training(traning_config, annotations)\n",
    "    return"
   ]
  },
  {
   "cell_type": "markdown",
   "id": "b326b18c",
   "metadata": {
    "papermill": {
     "duration": 0.011581,
     "end_time": "2024-02-11T22:21:14.941242",
     "exception": false,
     "start_time": "2024-02-11T22:21:14.929661",
     "status": "completed"
    },
    "tags": []
   },
   "source": [
    "# Load and evaluate the model"
   ]
  },
  {
   "cell_type": "code",
   "execution_count": 21,
   "id": "616170a5",
   "metadata": {
    "execution": {
     "iopub.execute_input": "2024-02-11T22:21:14.965102Z",
     "iopub.status.busy": "2024-02-11T22:21:14.964802Z",
     "iopub.status.idle": "2024-02-11T22:21:14.970502Z",
     "shell.execute_reply": "2024-02-11T22:21:14.969742Z"
    },
    "papermill": {
     "duration": 0.019834,
     "end_time": "2024-02-11T22:21:14.972336",
     "exception": false,
     "start_time": "2024-02-11T22:21:14.952502",
     "status": "completed"
    },
    "tags": []
   },
   "outputs": [],
   "source": [
    "def evaluate_model():\n",
    "    manager = TrainingManager()\n",
    "    accuracy, cm = manager.evaluate_on_test_dataset()\n",
    "    \n",
    "    print('prediction accuracy = ', accuracy)\n",
    "    \n",
    "    plt.figure(figsize=(8, 8))\n",
    "    sns.heatmap(cm, annot=True, cmap='Blues', fmt='g', cbar=True)\n",
    "    plt.xlabel('Predicted')\n",
    "    plt.ylabel('True')\n",
    "    plt.title('Confusion Matrix')\n",
    "    plt.show()\n",
    "    "
   ]
  },
  {
   "cell_type": "code",
   "execution_count": 22,
   "id": "90ca9e62",
   "metadata": {
    "_cell_guid": "27e44661-9807-47be-9a0b-050a849cae6d",
    "_uuid": "60502f16-c14c-42cb-85bf-e547a99db699",
    "execution": {
     "iopub.execute_input": "2024-02-11T22:21:14.996497Z",
     "iopub.status.busy": "2024-02-11T22:21:14.995779Z",
     "iopub.status.idle": "2024-02-11T22:21:15.001676Z",
     "shell.execute_reply": "2024-02-11T22:21:15.000890Z"
    },
    "papermill": {
     "duration": 0.01999,
     "end_time": "2024-02-11T22:21:15.003665",
     "exception": false,
     "start_time": "2024-02-11T22:21:14.983675",
     "status": "completed"
    },
    "tags": []
   },
   "outputs": [],
   "source": [
    "# checkpoint patch should be specified in config\n",
    "def load_model_from_checkpoint(config):\n",
    "    if config['model'] == 'ResNet':\n",
    "        model, preprocess_transforms = get_pretrained_resnet101()\n",
    "    elif config['model'] == 'Inception':\n",
    "        model, preprocess_transforms = get_pretrained_inception_v3()\n",
    "    else:\n",
    "        print('wrong model declaration')\n",
    "        return\n",
    "    testing_config = configuration(model, preprocess_transforms, config)\n",
    "    testing_config.last_checkpoint_path = config['last_checkpoint_path']\n",
    "    manager = TrainingManager()\n",
    "    manager.setup_configuration(testing_config, annotations)\n",
    "    manager = TrainingManager()\n",
    "    return"
   ]
  },
  {
   "cell_type": "markdown",
   "id": "5553510f",
   "metadata": {
    "papermill": {
     "duration": 0.011295,
     "end_time": "2024-02-11T22:21:15.026481",
     "exception": false,
     "start_time": "2024-02-11T22:21:15.015186",
     "status": "completed"
    },
    "tags": []
   },
   "source": [
    "# Calling functionalities"
   ]
  },
  {
   "cell_type": "code",
   "execution_count": 23,
   "id": "f854c418",
   "metadata": {
    "execution": {
     "iopub.execute_input": "2024-02-11T22:21:15.052630Z",
     "iopub.status.busy": "2024-02-11T22:21:15.052167Z",
     "iopub.status.idle": "2024-02-11T23:45:20.622815Z",
     "shell.execute_reply": "2024-02-11T23:45:20.621943Z"
    },
    "papermill": {
     "duration": 5045.587829,
     "end_time": "2024-02-11T23:45:20.625584",
     "exception": false,
     "start_time": "2024-02-11T22:21:15.037755",
     "status": "completed"
    },
    "tags": []
   },
   "outputs": [
    {
     "name": "stderr",
     "output_type": "stream",
     "text": [
      "Downloading: \"https://download.pytorch.org/models/resnet101-cd907fc2.pth\" to /root/.cache/torch/hub/checkpoints/resnet101-cd907fc2.pth\n",
      "100%|██████████| 171M/171M [00:00<00:00, 273MB/s]\n"
     ]
    },
    {
     "name": "stdout",
     "output_type": "stream",
     "text": [
      "inintializing manager for the first time\n",
      "no checkpoint found\n",
      "Model is on GPU\n",
      "~~~~~~~~~~~~~~~~~~~~~ Epoch:  0  ~~~~~~~~~~~~~~~~~~~~~\n",
      "{'training_loss_epoch': 3.5994025984325924, 'training_accuracy_epoch': 0.12575604827017398}\n",
      "{'validation_loss_epoch': 3.5557933983049894, 'validation_accuracy_epoch': 0.32648026315789475}\n",
      "~~~~~~~~~~~~~~~~~~~~~ Epoch:  1  ~~~~~~~~~~~~~~~~~~~~~\n",
      "{'training_loss_epoch': 3.318751009734901, 'training_accuracy_epoch': 0.42974880096074697}\n",
      "{'validation_loss_epoch': 3.018196469859073, 'validation_accuracy_epoch': 0.702576756477356}\n",
      "~~~~~~~~~~~~~~~~~~~~~ Epoch:  2  ~~~~~~~~~~~~~~~~~~~~~\n",
      "{'training_loss_epoch': 2.986828204747793, 'training_accuracy_epoch': 0.7184707385462683}\n",
      "{'validation_loss_epoch': 2.824201721894114, 'validation_accuracy_epoch': 0.8558114045544675}\n",
      "~~~~~~~~~~~~~~~~~~~~~ Epoch:  3  ~~~~~~~~~~~~~~~~~~~~~\n",
      "{'training_loss_epoch': 2.899684541934245, 'training_accuracy_epoch': 0.7743706405162811}\n",
      "{'validation_loss_epoch': 2.7919221049860905, 'validation_accuracy_epoch': 0.8769188617405138}\n",
      "~~~~~~~~~~~~~~~~~~~~~ Epoch:  4  ~~~~~~~~~~~~~~~~~~~~~\n",
      "{'training_loss_epoch': 2.8828990684973226, 'training_accuracy_epoch': 0.7845193985346202}\n",
      "{'validation_loss_epoch': 2.7962317592219303, 'validation_accuracy_epoch': 0.8686951775299875}\n",
      "~~~~~~~~~~~~~~~~~~~~~ Epoch:  5  ~~~~~~~~~~~~~~~~~~~~~\n",
      "{'training_loss_epoch': 2.8716286001978695, 'training_accuracy_epoch': 0.7942594805279294}\n",
      "{'validation_loss_epoch': 2.793231211210552, 'validation_accuracy_epoch': 0.8689692992913095}\n",
      "~~~~~~~~~~~~~~~~~~~~~ Epoch:  6  ~~~~~~~~~~~~~~~~~~~~~\n",
      "{'training_loss_epoch': 2.866699499052924, 'training_accuracy_epoch': 0.7986663579940796}\n",
      "{'validation_loss_epoch': 2.780461700339066, 'validation_accuracy_epoch': 0.8788377203439411}\n",
      "~~~~~~~~~~~~~~~~~~~~~ Epoch:  7  ~~~~~~~~~~~~~~~~~~~~~\n",
      "{'training_loss_epoch': 2.8595042357573637, 'training_accuracy_epoch': 0.8016360611528963}\n",
      "{'validation_loss_epoch': 2.7904766484310755, 'validation_accuracy_epoch': 0.8708881578947368}\n",
      "~~~~~~~~~~~~~~~~~~~~~ Epoch:  8  ~~~~~~~~~~~~~~~~~~~~~\n",
      "{'training_loss_epoch': 2.85293735362388, 'training_accuracy_epoch': 0.8097141997234242}\n",
      "{'validation_loss_epoch': 2.785422124360737, 'validation_accuracy_epoch': 0.8733552631578947}\n",
      "~~~~~~~~~~~~~~~~~~~~~ Epoch:  9  ~~~~~~~~~~~~~~~~~~~~~\n",
      "{'training_loss_epoch': 2.852704447668952, 'training_accuracy_epoch': 0.8062540864622271}\n",
      "{'validation_loss_epoch': 2.7833028843528345, 'validation_accuracy_epoch': 0.8758223684210527}\n",
      "~~~~~~~~~~~~~~~~~~~~~ Epoch:  10  ~~~~~~~~~~~~~~~~~~~~~\n",
      "{'training_loss_epoch': 2.8451590473587447, 'training_accuracy_epoch': 0.8172474390751606}\n",
      "{'validation_loss_epoch': 2.7650905533840784, 'validation_accuracy_epoch': 0.8933662301615665}\n",
      "~~~~~~~~~~~~~~~~~~~~~ Epoch:  11  ~~~~~~~~~~~~~~~~~~~~~\n",
      "{'training_loss_epoch': 2.834580253910374, 'training_accuracy_epoch': 0.8267899953030251}\n",
      "{'validation_loss_epoch': 2.7551305795970715, 'validation_accuracy_epoch': 0.9051535098176253}\n",
      "~~~~~~~~~~~~~~~~~~~~~ Epoch:  12  ~~~~~~~~~~~~~~~~~~~~~\n",
      "{'training_loss_epoch': 2.8252266452119157, 'training_accuracy_epoch': 0.8379672507981997}\n",
      "{'validation_loss_epoch': 2.770244648582057, 'validation_accuracy_epoch': 0.890076756477356}\n",
      "~~~~~~~~~~~~~~~~~~~~~ Epoch:  13  ~~~~~~~~~~~~~~~~~~~~~\n",
      "{'training_loss_epoch': 2.8324161510209778, 'training_accuracy_epoch': 0.827872983507208}\n",
      "{'validation_loss_epoch': 2.7624134389977706, 'validation_accuracy_epoch': 0.8985745624492043}\n",
      "~~~~~~~~~~~~~~~~~~~~~ Epoch:  14  ~~~~~~~~~~~~~~~~~~~~~\n",
      "{'training_loss_epoch': 2.8244105223062874, 'training_accuracy_epoch': 0.8383895480954969}\n",
      "{'validation_loss_epoch': 2.7646308949119165, 'validation_accuracy_epoch': 0.8919956150807833}\n",
      "~~~~~~~~~~~~~~~~~~~~~ Epoch:  15  ~~~~~~~~~~~~~~~~~~~~~\n",
      "{'training_loss_epoch': 2.8253193835954407, 'training_accuracy_epoch': 0.834548005381146}\n",
      "{'validation_loss_epoch': 2.7596335913005627, 'validation_accuracy_epoch': 0.8985745624492043}\n",
      "Epoch 00016: reducing learning rate of group 0 to 1.0000e-02.\n",
      "~~~~~~~~~~~~~~~~~~~~~ Epoch:  16  ~~~~~~~~~~~~~~~~~~~~~\n",
      "{'training_loss_epoch': 2.8189481690123275, 'training_accuracy_epoch': 0.8417679264738753}\n",
      "{'validation_loss_epoch': 2.7543726720308004, 'validation_accuracy_epoch': 0.9046052631578947}\n",
      "~~~~~~~~~~~~~~~~~~~~~ Epoch:  17  ~~~~~~~~~~~~~~~~~~~~~\n",
      "{'training_loss_epoch': 2.8101056814193726, 'training_accuracy_epoch': 0.8487085877238093}\n",
      "{'validation_loss_epoch': 2.748991238443475, 'validation_accuracy_epoch': 0.9117324571860465}\n",
      "~~~~~~~~~~~~~~~~~~~~~ Epoch:  18  ~~~~~~~~~~~~~~~~~~~~~\n",
      "{'training_loss_epoch': 2.796005526104489, 'training_accuracy_epoch': 0.8626716426900916}\n",
      "{'validation_loss_epoch': 2.7582806286058927, 'validation_accuracy_epoch': 0.9029605263157895}\n",
      "~~~~~~~~~~~~~~~~~~~~~ Epoch:  19  ~~~~~~~~~~~~~~~~~~~~~\n",
      "{'training_loss_epoch': 2.8049264469662227, 'training_accuracy_epoch': 0.8561669024261268}\n",
      "{'validation_loss_epoch': 2.7509728858345435, 'validation_accuracy_epoch': 0.9114583354247244}\n",
      "~~~~~~~~~~~~~~~~~~~~~ Epoch:  20  ~~~~~~~~~~~~~~~~~~~~~\n",
      "{'training_loss_epoch': 2.7963572515023722, 'training_accuracy_epoch': 0.8631348078315323}\n",
      "{'validation_loss_epoch': 2.7524828032443396, 'validation_accuracy_epoch': 0.9051535098176253}\n",
      "~~~~~~~~~~~~~~~~~~~~~ Epoch:  21  ~~~~~~~~~~~~~~~~~~~~~\n",
      "{'training_loss_epoch': 2.796496104549717, 'training_accuracy_epoch': 0.8643880776456885}\n",
      "{'validation_loss_epoch': 2.7501438667899682, 'validation_accuracy_epoch': 0.9100877203439411}\n",
      "Epoch 00022: reducing learning rate of group 0 to 5.0000e-03.\n",
      "~~~~~~~~~~~~~~~~~~~~~ Epoch:  22  ~~~~~~~~~~~~~~~~~~~~~\n",
      "{'training_loss_epoch': 2.7898799309859403, 'training_accuracy_epoch': 0.8689652351108758}\n",
      "{'validation_loss_epoch': 2.7496214289414254, 'validation_accuracy_epoch': 0.9117324571860465}\n",
      "~~~~~~~~~~~~~~~~~~~~~ Epoch:  23  ~~~~~~~~~~~~~~~~~~~~~\n",
      "{'training_loss_epoch': 2.7875227573755623, 'training_accuracy_epoch': 0.8685838048522537}\n",
      "{'validation_loss_epoch': 2.7497129942241467, 'validation_accuracy_epoch': 0.9106359670036718}\n",
      "~~~~~~~~~~~~~~~~~~~~~ Epoch:  24  ~~~~~~~~~~~~~~~~~~~~~\n",
      "{'training_loss_epoch': 2.776858871047561, 'training_accuracy_epoch': 0.8818997926003224}\n",
      "{'validation_loss_epoch': 2.7502921505978235, 'validation_accuracy_epoch': 0.9076206150807833}\n",
      "~~~~~~~~~~~~~~~~~~~~~ Epoch:  25  ~~~~~~~~~~~~~~~~~~~~~\n",
      "{'training_loss_epoch': 2.7883069096384823, 'training_accuracy_epoch': 0.8702729940414429}\n",
      "{'validation_loss_epoch': 2.7476319513822856, 'validation_accuracy_epoch': 0.9131030722668296}\n",
      "~~~~~~~~~~~~~~~~~~~~~ Epoch:  26  ~~~~~~~~~~~~~~~~~~~~~\n",
      "{'training_loss_epoch': 2.774854885565268, 'training_accuracy_epoch': 0.8836434717113907}\n",
      "{'validation_loss_epoch': 2.7468873325147127, 'validation_accuracy_epoch': 0.9114583354247244}\n",
      "~~~~~~~~~~~~~~~~~~~~~ Epoch:  27  ~~~~~~~~~~~~~~~~~~~~~\n",
      "{'training_loss_epoch': 2.775621436737679, 'training_accuracy_epoch': 0.8840112790868089}\n",
      "{'validation_loss_epoch': 2.740416037408929, 'validation_accuracy_epoch': 0.9194078947368421}\n",
      "~~~~~~~~~~~~~~~~~~~~~ Epoch:  28  ~~~~~~~~~~~~~~~~~~~~~\n",
      "{'training_loss_epoch': 2.780215559778987, 'training_accuracy_epoch': 0.8793660088165386}\n",
      "{'validation_loss_epoch': 2.7475954984363757, 'validation_accuracy_epoch': 0.9106359670036718}\n",
      "~~~~~~~~~~~~~~~~~~~~~ Epoch:  29  ~~~~~~~~~~~~~~~~~~~~~\n",
      "{'training_loss_epoch': 2.775360648696487, 'training_accuracy_epoch': 0.8844608213450458}\n",
      "{'validation_loss_epoch': 2.7475517172562447, 'validation_accuracy_epoch': 0.9117324571860465}\n",
      "~~~~~~~~~~~~~~~~~~~~~ Epoch:  30  ~~~~~~~~~~~~~~~~~~~~~\n",
      "{'training_loss_epoch': 2.769214069521105, 'training_accuracy_epoch': 0.8891333365762556}\n",
      "{'validation_loss_epoch': 2.743528918216103, 'validation_accuracy_epoch': 0.9172149143720928}\n",
      "~~~~~~~~~~~~~~~~~~~~~ Epoch:  31  ~~~~~~~~~~~~~~~~~~~~~\n",
      "{'training_loss_epoch': 2.7711905434324935, 'training_accuracy_epoch': 0.889542010990349}\n",
      "{'validation_loss_epoch': 2.7474241507680794, 'validation_accuracy_epoch': 0.9100877203439411}\n",
      "Epoch 00032: reducing learning rate of group 0 to 2.5000e-03.\n",
      "~~~~~~~~~~~~~~~~~~~~~ Epoch:  32  ~~~~~~~~~~~~~~~~~~~~~\n",
      "{'training_loss_epoch': 2.7764667498098836, 'training_accuracy_epoch': 0.8833642102576591}\n",
      "{'validation_loss_epoch': 2.7383842091811332, 'validation_accuracy_epoch': 0.9243421052631579}\n",
      "~~~~~~~~~~~~~~~~~~~~~ Epoch:  33  ~~~~~~~~~~~~~~~~~~~~~\n",
      "{'training_loss_epoch': 2.7717107888814567, 'training_accuracy_epoch': 0.8872193758552139}\n",
      "{'validation_loss_epoch': 2.7396105967069926, 'validation_accuracy_epoch': 0.9191337729755201}\n",
      "~~~~~~~~~~~~~~~~~~~~~ Epoch:  34  ~~~~~~~~~~~~~~~~~~~~~\n",
      "{'training_loss_epoch': 2.7680240643991008, 'training_accuracy_epoch': 0.8912175781018025}\n",
      "{'validation_loss_epoch': 2.743069974999679, 'validation_accuracy_epoch': 0.9133771940281517}\n",
      "~~~~~~~~~~~~~~~~~~~~~ Epoch:  35  ~~~~~~~~~~~~~~~~~~~~~\n",
      "{'training_loss_epoch': 2.7681710107906445, 'training_accuracy_epoch': 0.8901345898976197}\n",
      "{'validation_loss_epoch': 2.7359008036161723, 'validation_accuracy_epoch': 0.9226973684210527}\n",
      "~~~~~~~~~~~~~~~~~~~~~ Epoch:  36  ~~~~~~~~~~~~~~~~~~~~~\n",
      "{'training_loss_epoch': 2.7642694969434998, 'training_accuracy_epoch': 0.8939488884564992}\n",
      "{'validation_loss_epoch': 2.7390733643581995, 'validation_accuracy_epoch': 0.9226973684210527}\n",
      "~~~~~~~~~~~~~~~~~~~~~ Epoch:  37  ~~~~~~~~~~~~~~~~~~~~~\n",
      "{'training_loss_epoch': 2.768904176918236, 'training_accuracy_epoch': 0.8896850476393828}\n",
      "{'validation_loss_epoch': 2.7395222187042236, 'validation_accuracy_epoch': 0.9191337729755201}\n",
      "~~~~~~~~~~~~~~~~~~~~~ Epoch:  38  ~~~~~~~~~~~~~~~~~~~~~\n",
      "{'training_loss_epoch': 2.764083788201616, 'training_accuracy_epoch': 0.8958356034111332}\n",
      "{'validation_loss_epoch': 2.7392790066568473, 'validation_accuracy_epoch': 0.9188596512141981}\n",
      "~~~~~~~~~~~~~~~~~~~~~ Epoch:  39  ~~~~~~~~~~~~~~~~~~~~~\n",
      "{'training_loss_epoch': 2.7669469569180465, 'training_accuracy_epoch': 0.8926819965646073}\n",
      "{'validation_loss_epoch': 2.739074192549053, 'validation_accuracy_epoch': 0.9226973684210527}\n",
      "Epoch 00040: reducing learning rate of group 0 to 1.2500e-03.\n"
     ]
    }
   ],
   "source": [
    "train_model(passed_config)"
   ]
  },
  {
   "cell_type": "code",
   "execution_count": 24,
   "id": "0ec52cb2",
   "metadata": {
    "execution": {
     "iopub.execute_input": "2024-02-11T23:45:20.658482Z",
     "iopub.status.busy": "2024-02-11T23:45:20.658125Z",
     "iopub.status.idle": "2024-02-11T23:45:44.494165Z",
     "shell.execute_reply": "2024-02-11T23:45:44.493250Z"
    },
    "papermill": {
     "duration": 23.854894,
     "end_time": "2024-02-11T23:45:44.496478",
     "exception": false,
     "start_time": "2024-02-11T23:45:20.641584",
     "status": "completed"
    },
    "tags": []
   },
   "outputs": [
    {
     "name": "stdout",
     "output_type": "stream",
     "text": [
      "prediction accuracy =  0.9224489795918367\n"
     ]
    },
    {
     "data": {
      "image/png": "[encoded data removed]",
      "text/plain": [
       "<Figure size 800x800 with 2 Axes>"
      ]
     },
     "metadata": {},
     "output_type": "display_data"
    }
   ],
   "source": [
    "evaluate_model()"
   ]
  },
  {
   "cell_type": "code",
   "execution_count": 25,
   "id": "e72bd0ef",
   "metadata": {
    "execution": {
     "iopub.execute_input": "2024-02-11T23:45:44.535342Z",
     "iopub.status.busy": "2024-02-11T23:45:44.535015Z",
     "iopub.status.idle": "2024-02-11T23:45:44.538998Z",
     "shell.execute_reply": "2024-02-11T23:45:44.538024Z"
    },
    "papermill": {
     "duration": 0.026281,
     "end_time": "2024-02-11T23:45:44.541397",
     "exception": false,
     "start_time": "2024-02-11T23:45:44.515116",
     "status": "completed"
    },
    "tags": []
   },
   "outputs": [],
   "source": [
    "#load_model_from_checkpoint(passed_config)\n",
    "#evaluate_model()"
   ]
  },
  {
   "cell_type": "code",
   "execution_count": 26,
   "id": "4bc4d6bb",
   "metadata": {
    "_cell_guid": "a3848d77-c012-46cf-9799-cb80a56d8dd2",
    "_uuid": "db4dba4f-326b-41b5-8732-b8199756c4b5",
    "execution": {
     "iopub.execute_input": "2024-02-11T23:45:44.579888Z",
     "iopub.status.busy": "2024-02-11T23:45:44.579355Z",
     "iopub.status.idle": "2024-02-11T23:45:44.585603Z",
     "shell.execute_reply": "2024-02-11T23:45:44.584602Z"
    },
    "papermill": {
     "duration": 0.027817,
     "end_time": "2024-02-11T23:45:44.587986",
     "exception": false,
     "start_time": "2024-02-11T23:45:44.560169",
     "status": "completed"
    },
    "tags": []
   },
   "outputs": [
    {
     "name": "stdout",
     "output_type": "stream",
     "text": [
      "wandb is disabled. To run sweeps enable wandb and pass teh right api key\n"
     ]
    }
   ],
   "source": [
    "wandb_mode = os.environ.get(\"WANDB_MODE\")\n",
    "if wandb_mode != 'disabled':\n",
    "    initialize_wandb()\n",
    "    sweep_id = wandb.sweep(sweep=sweep_config, project=\"cats&dogs_ML&DL_project\")\n",
    "    #print(wandb.config)\n",
    "    wandb.agent(sweep_id, function=start_training_with_sweep, count=14)\n",
    "else:\n",
    "    print('wandb is disabled. To run sweeps enable wandb and pass teh right api key')"
   ]
  }
 ],
 "metadata": {
  "kaggle": {
   "accelerator": "gpu",
   "dataSources": [
    {
     "datasetId": 137362,
     "sourceId": 325302,
     "sourceType": "datasetVersion"
    },
    {
     "datasetId": 4380888,
     "sourceId": 7520479,
     "sourceType": "datasetVersion"
    },
    {
     "datasetId": 4429047,
     "sourceId": 7606964,
     "sourceType": "datasetVersion"
    }
   ],
   "dockerImageVersionId": 30635,
   "isGpuEnabled": true,
   "isInternetEnabled": true,
   "language": "python",
   "sourceType": "notebook"
  },
  "kernelspec": {
   "display_name": "Python 3",
   "language": "python",
   "name": "python3"
  },
  "language_info": {
   "codemirror_mode": {
    "name": "ipython",
    "version": 3
   },
   "file_extension": ".py",
   "mimetype": "text/x-python",
   "name": "python",
   "nbconvert_exporter": "python",
   "pygments_lexer": "ipython3",
   "version": "3.10.12"
  },
  "papermill": {
   "default_parameters": {},
   "duration": 5082.380487,
   "end_time": "2024-02-11T23:45:46.438221",
   "environment_variables": {},
   "exception": null,
   "input_path": "__notebook__.ipynb",
   "output_path": "__notebook__.ipynb",
   "parameters": {},
   "start_time": "2024-02-11T22:21:04.057734",
   "version": "2.4.0"
  }
 },
 "nbformat": 4,
 "nbformat_minor": 5
}
